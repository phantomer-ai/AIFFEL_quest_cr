{
 "cells": [
  {
   "cell_type": "code",
   "execution_count": 2,
   "id": "428f77f7",
   "metadata": {},
   "outputs": [],
   "source": [
    "# Cell 1: 필요한 모든 라이브러리 import\n",
    "import pandas as pd\n",
    "import numpy as np\n",
    "import matplotlib.pyplot as plt\n",
    "from sklearn.datasets import load_digits, load_wine, load_breast_cancer\n",
    "from sklearn.model_selection import train_test_split\n",
    "from sklearn.metrics import classification_report\n",
    "from sklearn.tree import DecisionTreeClassifier\n",
    "from sklearn.ensemble import RandomForestClassifier\n",
    "from sklearn.svm import SVC\n",
    "from sklearn.linear_model import SGDClassifier, LogisticRegression"
   ]
  },
  {
   "cell_type": "code",
   "execution_count": 3,
   "id": "dfe9bc61",
   "metadata": {},
   "outputs": [
    {
     "name": "stdout",
     "output_type": "stream",
     "text": [
      "=== 데이터 정보 ===\n",
      "데이터 크기: (1797, 64)\n",
      "레이블 크기: (1797,)\n",
      "클래스 종류: [0 1 2 3 4 5 6 7 8 9]\n"
     ]
    }
   ],
   "source": [
    "# Cell 2: 데이터 준비\n",
    "digits = load_digits()\n",
    "X = digits.data\n",
    "y = digits.target\n",
    "\n",
    "print(\"=== 데이터 정보 ===\")\n",
    "print(f\"데이터 크기: {X.shape}\")\n",
    "print(f\"레이블 크기: {y.shape}\")\n",
    "print(f\"클래스 종류: {digits.target_names}\")"
   ]
  },
  {
   "cell_type": "code",
   "execution_count": 4,
   "id": "a72ac935",
   "metadata": {},
   "outputs": [
    {
     "data": {
      "image/png": "[encoded data removed]",
      "text/plain": [
       "<Figure size 720x288 with 10 Axes>"
      ]
     },
     "metadata": {
      "needs_background": "light"
     },
     "output_type": "display_data"
    }
   ],
   "source": [
    "# Cell 3: 샘플 이미지 시각화\n",
    "plt.figure(figsize=(10, 4))\n",
    "for i in range(10):\n",
    "    plt.subplot(2, 5, i+1)\n",
    "    plt.imshow(digits.images[i], cmap='gray')\n",
    "    plt.title(f'Label: {y[i]}')\n",
    "plt.tight_layout()\n",
    "plt.show()"
   ]
  },
  {
   "cell_type": "code",
   "execution_count": 9,
   "id": "feca62ea",
   "metadata": {},
   "outputs": [],
   "source": [
    "# Cell 4: 데이터 분리\n",
    "X_train, X_test, y_train, y_test = train_test_split(X, y, test_size=0.2, random_state=42)"
   ]
  },
  {
   "cell_type": "code",
   "execution_count": 8,
   "id": "177b2943",
   "metadata": {
    "scrolled": true
   },
   "outputs": [
    {
     "name": "stderr",
     "output_type": "stream",
     "text": [
      "/opt/conda/lib/python3.9/site-packages/sklearn/linear_model/_logistic.py:814: ConvergenceWarning: lbfgs failed to converge (status=1):\n",
      "STOP: TOTAL NO. of ITERATIONS REACHED LIMIT.\n",
      "\n",
      "Increase the number of iterations (max_iter) or scale the data as shown in:\n",
      "    https://scikit-learn.org/stable/modules/preprocessing.html\n",
      "Please also refer to the documentation for alternative solver options:\n",
      "    https://scikit-learn.org/stable/modules/linear_model.html#logistic-regression\n",
      "  n_iter_i = _check_optimize_result(\n"
     ]
    },
    {
     "data": {
      "text/html": [
       "<div>\n",
       "<style scoped>\n",
       "    .dataframe tbody tr th:only-of-type {\n",
       "        vertical-align: middle;\n",
       "    }\n",
       "\n",
       "    .dataframe tbody tr th {\n",
       "        vertical-align: top;\n",
       "    }\n",
       "\n",
       "    .dataframe thead th {\n",
       "        text-align: right;\n",
       "    }\n",
       "</style>\n",
       "<table border=\"1\" class=\"dataframe\">\n",
       "  <thead>\n",
       "    <tr style=\"text-align: right;\">\n",
       "      <th></th>\n",
       "      <th>Model</th>\n",
       "      <th>Accuracy</th>\n",
       "      <th>Precision</th>\n",
       "      <th>Recall</th>\n",
       "      <th>F1-score</th>\n",
       "    </tr>\n",
       "  </thead>\n",
       "  <tbody>\n",
       "    <tr>\n",
       "      <th>0</th>\n",
       "      <td>Decision Tree</td>\n",
       "      <td>0.841667</td>\n",
       "      <td>0.844750</td>\n",
       "      <td>0.835987</td>\n",
       "      <td>0.838460</td>\n",
       "    </tr>\n",
       "    <tr>\n",
       "      <th>1</th>\n",
       "      <td>Random Forest</td>\n",
       "      <td>0.972222</td>\n",
       "      <td>0.974042</td>\n",
       "      <td>0.972700</td>\n",
       "      <td>0.973207</td>\n",
       "    </tr>\n",
       "    <tr>\n",
       "      <th>2</th>\n",
       "      <td>SVM</td>\n",
       "      <td>0.986111</td>\n",
       "      <td>0.987153</td>\n",
       "      <td>0.986598</td>\n",
       "      <td>0.986828</td>\n",
       "    </tr>\n",
       "    <tr>\n",
       "      <th>3</th>\n",
       "      <td>SGD Classifier</td>\n",
       "      <td>0.955556</td>\n",
       "      <td>0.955043</td>\n",
       "      <td>0.955315</td>\n",
       "      <td>0.955014</td>\n",
       "    </tr>\n",
       "    <tr>\n",
       "      <th>4</th>\n",
       "      <td>Logistic Regression</td>\n",
       "      <td>0.972222</td>\n",
       "      <td>0.973581</td>\n",
       "      <td>0.974370</td>\n",
       "      <td>0.973864</td>\n",
       "    </tr>\n",
       "  </tbody>\n",
       "</table>\n",
       "</div>"
      ],
      "text/plain": [
       "                 Model  Accuracy  Precision    Recall  F1-score\n",
       "0        Decision Tree  0.841667   0.844750  0.835987  0.838460\n",
       "1        Random Forest  0.972222   0.974042  0.972700  0.973207\n",
       "2                  SVM  0.986111   0.987153  0.986598  0.986828\n",
       "3       SGD Classifier  0.955556   0.955043  0.955315  0.955014\n",
       "4  Logistic Regression  0.972222   0.973581  0.974370  0.973864"
      ]
     },
     "execution_count": 8,
     "metadata": {},
     "output_type": "execute_result"
    }
   ],
   "source": [
    "# Cell 5: 모델 학습 및 평가\n",
    "models = {\n",
    "    'Decision Tree': DecisionTreeClassifier(random_state=42),\n",
    "    'Random Forest': RandomForestClassifier(random_state=42),\n",
    "    'SVM': SVC(random_state=42),\n",
    "    'SGD Classifier': SGDClassifier(random_state=42),\n",
    "    'Logistic Regression': LogisticRegression(max_iter=1000, random_state=42)\n",
    "}\n",
    "\n",
    "results = {\n",
    "    'Model': [],\n",
    "    'Accuracy': [],\n",
    "    'Precision': [],\n",
    "    'Recall': [],\n",
    "    'F1-score': []\n",
    "}\n",
    "\n",
    "for name, model in models.items():\n",
    "    model.fit(X_train, y_train)\n",
    "    y_pred = model.predict(X_test)\n",
    "    report = classification_report(y_test, y_pred, output_dict=True, zero_division=0)\n",
    "    \n",
    "    results['Model'].append(name)\n",
    "    results['Accuracy'].append(report['accuracy'])\n",
    "    results['Precision'].append(report['macro avg']['precision'])\n",
    "    results['Recall'].append(report['macro avg']['recall'])\n",
    "    results['F1-score'].append(report['macro avg']['f1-score'])\n",
    "\n",
    "\n",
    "results_df = pd.DataFrame(results)\n",
    "results_df"
   ]
  },
  {
   "cell_type": "code",
   "execution_count": null,
   "id": "4eb0aefe",
   "metadata": {},
   "outputs": [],
   "source": [
    "#(6) 모델을 평가해 보기\n",
    "# 손글씨 숫자 분류의 경우 다음 지표들이 중요합니다:\n",
    "\n",
    "# 1. 정확도(Accuracy)\n",
    "# - 전체 숫자 중에서 올바르게 분류한 비율\n",
    "# - 모든 숫자가 동일하게 중요하므로 전체 정확도가 중요\n",
    "\n",
    "# 2. 정밀도(Precision)\n",
    "# - \"이 숫자는 7이다\"라고 했을 때 실제로 7인 비율\n",
    "# - 각 숫자별로 얼마나 정확하게 분류했는지 확인 가능\n",
    "\n",
    "# 3. 재현율(Recall)\n",
    "# - 실제 7인 숫자들 중에서 제대로 찾아낸 비율\n",
    "# - 특정 숫자를 얼마나 잘 인식하는지 확인 가능\n",
    "\n",
    "# 손글씨 숫자 분류에서는 모든 숫자가 동등하게 중요하므로,\n",
    "# 정확도(Accuracy)와 각 숫자별 F1-score를 균형있게 보는 것이 좋습니다.\n",
    "# 이유: \n",
    "# 1. 특정 숫자를 다른 숫자로 잘못 인식하는 것이 특별히 치명적이지 않음\n",
    "# 2. 모든 숫자를 골고루 잘 인식하는 것이 중요\n",
    "# 3. 실생활에서 모든 숫자가 비슷한 빈도로 사용됨 "
   ]
  },
  {
   "cell_type": "code",
   "execution_count": null,
   "id": "fb159fe7",
   "metadata": {},
   "outputs": [],
   "source": [
    "SVM 모델이 가장 성능이 좋습니다"
   ]
  },
  {
   "cell_type": "code",
   "execution_count": null,
   "id": "d4ec01fa",
   "metadata": {},
   "outputs": [],
   "source": []
  }
 ],
 "metadata": {
  "kernelspec": {
   "display_name": "Python 3 (ipykernel)",
   "language": "python",
   "name": "python3"
  },
  "language_info": {
   "codemirror_mode": {
    "name": "ipython",
    "version": 3
   },
   "file_extension": ".py",
   "mimetype": "text/x-python",
   "name": "python",
   "nbconvert_exporter": "python",
   "pygments_lexer": "ipython3",
   "version": "3.9.7"
  }
 },
 "nbformat": 4,
 "nbformat_minor": 5
}
