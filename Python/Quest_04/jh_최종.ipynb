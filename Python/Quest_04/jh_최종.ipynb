{
  "nbformat": 4,
  "nbformat_minor": 0,
  "metadata": {
    "colab": {
      "provenance": [],
      "authorship_tag": "ABX9TyNjV+c2R/xDLW9B2FfsYpcR",
      "include_colab_link": true
    },
    "kernelspec": {
      "name": "python3",
      "display_name": "Python 3"
    },
    "language_info": {
      "name": "python"
    }
  },
  "cells": [
    {
      "cell_type": "markdown",
      "metadata": {
        "id": "view-in-github",
        "colab_type": "text"
      },
      "source": [
        "<a href=\"https://colab.research.google.com/github/phantomer-ai/AIFFEL_quest_cr/blob/main/Python/Quest_04/jh_%EC%B5%9C%EC%A2%85.ipynb\" target=\"_parent\"><img src=\"https://colab.research.google.com/assets/colab-badge.svg\" alt=\"Open In Colab\"/></a>"
      ]
    },
    {
      "cell_type": "markdown",
      "source": [
        "첫번째 결과물 정수로 변환하지 않아 실패\n",
        " while 루프가 제대로 작동하지 않음"
      ],
      "metadata": {
        "id": "P4ezAyw_6k3Z"
      }
    },
    {
      "cell_type": "code",
      "execution_count": 4,
      "metadata": {
        "id": "4h6ZqYoGzUAx",
        "colab": {
          "base_uri": "https://localhost:8080/",
          "height": 391
        },
        "outputId": "4134f0c8-5e40-4f3e-d941-19ef2a85b8db"
      },
      "outputs": [
        {
          "name": "stdout",
          "output_type": "stream",
          "text": [
            "첫 번째 숫자를 입력하세요: 1\n",
            "연산자를 입력하세요 (+, -, *, /): +\n",
            "두 번째 숫자를 입력하세요: 2\n"
          ]
        },
        {
          "output_type": "error",
          "ename": "KeyboardInterrupt",
          "evalue": "Interrupted by user",
          "traceback": [
            "\u001b[0;31m---------------------------------------------------------------------------\u001b[0m",
            "\u001b[0;31mKeyboardInterrupt\u001b[0m                         Traceback (most recent call last)",
            "\u001b[0;32m<ipython-input-4-f47b2d96b5da>\u001b[0m in \u001b[0;36m<cell line: 65>\u001b[0;34m()\u001b[0m\n\u001b[1;32m     64\u001b[0m \u001b[0;31m# 프로그램 시작점\u001b[0m\u001b[0;34m\u001b[0m\u001b[0;34m\u001b[0m\u001b[0m\n\u001b[1;32m     65\u001b[0m \u001b[0;32mif\u001b[0m \u001b[0m__name__\u001b[0m \u001b[0;34m==\u001b[0m \u001b[0;34m\"__main__\"\u001b[0m\u001b[0;34m:\u001b[0m\u001b[0;34m\u001b[0m\u001b[0;34m\u001b[0m\u001b[0m\n\u001b[0;32m---> 66\u001b[0;31m     \u001b[0mcalculator\u001b[0m\u001b[0;34m(\u001b[0m\u001b[0;34m)\u001b[0m\u001b[0;34m\u001b[0m\u001b[0;34m\u001b[0m\u001b[0m\n\u001b[0m",
            "\u001b[0;32m<ipython-input-4-f47b2d96b5da>\u001b[0m in \u001b[0;36mcalculator\u001b[0;34m()\u001b[0m\n\u001b[1;32m     24\u001b[0m \u001b[0;34m\u001b[0m\u001b[0m\n\u001b[1;32m     25\u001b[0m             \u001b[0;31m# 조건 4: 지원하는 연산자 목록 제시\u001b[0m\u001b[0;34m\u001b[0m\u001b[0;34m\u001b[0m\u001b[0m\n\u001b[0;32m---> 26\u001b[0;31m             \u001b[0moperator\u001b[0m \u001b[0;34m=\u001b[0m \u001b[0minput\u001b[0m\u001b[0;34m(\u001b[0m\u001b[0;34m\"연산자를 입력하세요(+,-,*,/,**): \"\u001b[0m\u001b[0;34m)\u001b[0m\u001b[0;34m\u001b[0m\u001b[0;34m\u001b[0m\u001b[0m\n\u001b[0m\u001b[1;32m     27\u001b[0m \u001b[0;34m\u001b[0m\u001b[0m\n\u001b[1;32m     28\u001b[0m             \u001b[0;32mtry\u001b[0m\u001b[0;34m:\u001b[0m\u001b[0;34m\u001b[0m\u001b[0;34m\u001b[0m\u001b[0m\n",
            "\u001b[0;32m/usr/local/lib/python3.10/dist-packages/ipykernel/kernelbase.py\u001b[0m in \u001b[0;36mraw_input\u001b[0;34m(self, prompt)\u001b[0m\n\u001b[1;32m    849\u001b[0m                 \u001b[0;34m\"raw_input was called, but this frontend does not support input requests.\"\u001b[0m\u001b[0;34m\u001b[0m\u001b[0;34m\u001b[0m\u001b[0m\n\u001b[1;32m    850\u001b[0m             )\n\u001b[0;32m--> 851\u001b[0;31m         return self._input_request(str(prompt),\n\u001b[0m\u001b[1;32m    852\u001b[0m             \u001b[0mself\u001b[0m\u001b[0;34m.\u001b[0m\u001b[0m_parent_ident\u001b[0m\u001b[0;34m,\u001b[0m\u001b[0;34m\u001b[0m\u001b[0;34m\u001b[0m\u001b[0m\n\u001b[1;32m    853\u001b[0m             \u001b[0mself\u001b[0m\u001b[0;34m.\u001b[0m\u001b[0m_parent_header\u001b[0m\u001b[0;34m,\u001b[0m\u001b[0;34m\u001b[0m\u001b[0;34m\u001b[0m\u001b[0m\n",
            "\u001b[0;32m/usr/local/lib/python3.10/dist-packages/ipykernel/kernelbase.py\u001b[0m in \u001b[0;36m_input_request\u001b[0;34m(self, prompt, ident, parent, password)\u001b[0m\n\u001b[1;32m    893\u001b[0m             \u001b[0;32mexcept\u001b[0m \u001b[0mKeyboardInterrupt\u001b[0m\u001b[0;34m:\u001b[0m\u001b[0;34m\u001b[0m\u001b[0;34m\u001b[0m\u001b[0m\n\u001b[1;32m    894\u001b[0m                 \u001b[0;31m# re-raise KeyboardInterrupt, to truncate traceback\u001b[0m\u001b[0;34m\u001b[0m\u001b[0;34m\u001b[0m\u001b[0m\n\u001b[0;32m--> 895\u001b[0;31m                 \u001b[0;32mraise\u001b[0m \u001b[0mKeyboardInterrupt\u001b[0m\u001b[0;34m(\u001b[0m\u001b[0;34m\"Interrupted by user\"\u001b[0m\u001b[0;34m)\u001b[0m \u001b[0;32mfrom\u001b[0m \u001b[0;32mNone\u001b[0m\u001b[0;34m\u001b[0m\u001b[0;34m\u001b[0m\u001b[0m\n\u001b[0m\u001b[1;32m    896\u001b[0m             \u001b[0;32mexcept\u001b[0m \u001b[0mException\u001b[0m \u001b[0;32mas\u001b[0m \u001b[0me\u001b[0m\u001b[0;34m:\u001b[0m\u001b[0;34m\u001b[0m\u001b[0;34m\u001b[0m\u001b[0m\n\u001b[1;32m    897\u001b[0m                 \u001b[0mself\u001b[0m\u001b[0;34m.\u001b[0m\u001b[0mlog\u001b[0m\u001b[0;34m.\u001b[0m\u001b[0mwarning\u001b[0m\u001b[0;34m(\u001b[0m\u001b[0;34m\"Invalid Message:\"\u001b[0m\u001b[0;34m,\u001b[0m \u001b[0mexc_info\u001b[0m\u001b[0;34m=\u001b[0m\u001b[0;32mTrue\u001b[0m\u001b[0;34m)\u001b[0m\u001b[0;34m\u001b[0m\u001b[0;34m\u001b[0m\u001b[0m\n",
            "\u001b[0;31mKeyboardInterrupt\u001b[0m: Interrupted by user"
          ]
        }
      ],
      "source": [
        "import math  # 제곱 연산을 위한 math 모듈 임포트\n",
        "\n",
        "def calculator():\n",
        "    while True:  # 전체 계산기 동작을 위한 while 루프\n",
        "        try:\n",
        "            # 조건 1: 첫 번째 숫자 입력\n",
        "            num1 = float(input(\"첫 번째 숫자를 입력하세요: \"))\n",
        "        except ValueError:\n",
        "            print(\"올바른 숫자를 입력하세요.\")\n",
        "            continue\n",
        "\n",
        "        # 조건 2: 연산자 입력\n",
        "        try:\n",
        "            operator = input(\"연산자를 입력하세요 (+, -, *, /): \")\n",
        "            if operator not in ['+', '-', '*', '/']:\n",
        "                raise ValueError(\"올바른 연산자가 아닙니다.\")\n",
        "        except ValueError as e:\n",
        "            print(e)\n",
        "            continue\n",
        "\n",
        "        try:\n",
        "            # 조건 3: 두 번째 숫자 입력\n",
        "            num2 = float(input(\"두 번째 숫자를 입력하세요: \"))\n",
        "\n",
        "            # 조건 4: 지원하는 연산자 목록 제시\n",
        "            operator = input(\"연산자를 입력하세요(+,-,*,/,**): \")\n",
        "\n",
        "            try:\n",
        "                # 조건 4: 지원하는 연산자에 따른 계산 수행\n",
        "                if operator == \"+\":\n",
        "                    result = num1 + num2\n",
        "                elif operator == \"-\":\n",
        "                    result = num1 - num2\n",
        "                elif operator == \"*\":\n",
        "                    result = num1 * num2\n",
        "                elif operator == \"/\":\n",
        "                    # 조건 2: 나눗셈 시 ZeroDivisionError 발생 가능\n",
        "                    result = num1 / num2\n",
        "                elif operator == \"**\":\n",
        "                    # 조건 5: math 모듈을 사용한 제곱 연산\n",
        "                    result = math.pow(num1, num2)\n",
        "                else:\n",
        "                    # 조건 4: 지원하지 않는 연산자 처리\n",
        "                    print(\"지원하지 않는 연산자입니다.\")\n",
        "                    continue  # 다시 처음으로 돌아가기\n",
        "\n",
        "                print(f\"계산 결과: {result}\")\n",
        "\n",
        "            except ZeroDivisionError:\n",
        "                # 조건 2: 0으로 나누기 시도할 경우 에러 메시지 출력\n",
        "                print(\"0으로 나눌 수 없습니다.\")\n",
        "                continue  # 다시 처음으로 돌아가기\n",
        "\n",
        "            # 조건 6: 계속 계산할지 여부 확인\n",
        "            continue_calc = input(\"계속 계산하시겠습니까? (y/n): \")\n",
        "            if continue_calc.lower() != 'y':\n",
        "                print(\"계산기를 종료합니다.\")\n",
        "                return\n",
        "\n",
        "        except ValueError:\n",
        "            print(\"올바른 숫자를 입력하세요.\")\n",
        "            continue\n",
        "\n",
        "# 프로그램 시작점\n",
        "if __name__ == \"__main__\":\n",
        "    calculator()\n"
      ]
    },
    {
      "cell_type": "code",
      "source": [
        "import math  # 제곱 연산을 위한 math 모듈 임포트\n",
        "\n",
        "def calculator():\n",
        "    while True:  # 전체 계산기 동작을 위한 while 루프\n",
        "        try:\n",
        "            # 조건 1: 첫 번째 정수 입력 float로 잘못 입력하여 수정\n",
        "            num1 = int(input(\"첫 번째 정수를 입력하세요: \"))\n",
        "        except ValueError:\n",
        "            print(\"올바른 정수를 입력하세요.\")\n",
        "            continue\n",
        "\n",
        "        # 연산자 입력을 위한 내부 루프 #내부 루프를 처음에 만들지 않아 연산자입력에서 벗어나질 못함\n",
        "        while True:\n",
        "            try:\n",
        "                operator = input(\"연산자를 입력하세요 (+, -, *, /): \")\n",
        "                if operator not in ['+', '-', '*', '/']:\n",
        "                    raise ValueError(\"올바른 연산자가 아닙니다.\")\n",
        "                break #break 굳이 사용하지 않아도 될것같아 삭제하니 벗어나지 못함\n",
        "                # 올바른 연산자를 입력받으면 내부 루프를 벗어남\n",
        "            except ValueError as e:\n",
        "                print(e)\n",
        "\n",
        "        try:\n",
        "            # 조건 3: 두 번째 정수 입력\n",
        "            num2 = int(input(\"두 번째 정수를 입력하세요: \"))\n",
        "\n",
        "            # 조건 4: 0으로 나누기 처리\n",
        "            if operator == '/' and num2 == 0:\n",
        "                print(\"0으로 나눌 수 없습니다.\")\n",
        "                continue\n",
        "\n",
        "            # 조건 5: 계산 수행 및 결과 출력\n",
        "            if operator == '+':\n",
        "                result = num1 + num2\n",
        "            elif operator == '-':\n",
        "                result = num1 - num2\n",
        "            elif operator == '*':\n",
        "                result = num1 * num2\n",
        "            else:  # operator == '/'\n",
        "                result = num1 / num2\n",
        "\n",
        "            print(f\"계산 결과: {result}\")\n",
        "\n",
        "            # 조건 6: 계속 계산할지 여부 확인\n",
        "            continue_calc = input(\"계속 계산하시겠습니까? (y/n): \")\n",
        "            if continue_calc.lower() != 'y':\n",
        "                print(\"계산기를 종료합니다.\")\n",
        "                return\n",
        "\n",
        "        except ValueError:\n",
        "            print(\"올바른 정수를 입력하세요.\")\n",
        "            continue\n",
        "\n",
        "# 프로그램 시작점\n",
        "if __name__ == \"__main__\":\n",
        "    calculator()\n"
      ],
      "metadata": {
        "colab": {
          "base_uri": "https://localhost:8080/",
          "height": 465
        },
        "id": "BnE4YqWO5Xbe",
        "outputId": "86a480cd-c5c1-4fef-d2c8-3c768e934890"
      },
      "execution_count": 6,
      "outputs": [
        {
          "name": "stdout",
          "output_type": "stream",
          "text": [
            "첫 번째 정수를 입력하세요: 1\n",
            "연산자를 입력하세요 (+, -, *, /): 2\n",
            "올바른 연산자가 아닙니다.\n",
            "연산자를 입력하세요 (+, -, *, /): 2\n",
            "올바른 연산자가 아닙니다.\n",
            "연산자를 입력하세요 (+, -, *, /): +\n",
            "연산자를 입력하세요 (+, -, *, /): +\n"
          ]
        },
        {
          "output_type": "error",
          "ename": "KeyboardInterrupt",
          "evalue": "Interrupted by user",
          "traceback": [
            "\u001b[0;31m---------------------------------------------------------------------------\u001b[0m",
            "\u001b[0;31mKeyboardInterrupt\u001b[0m                         Traceback (most recent call last)",
            "\u001b[0;32m<ipython-input-6-305e809d1abb>\u001b[0m in \u001b[0;36m<cell line: 54>\u001b[0;34m()\u001b[0m\n\u001b[1;32m     53\u001b[0m \u001b[0;31m# 프로그램 시작점\u001b[0m\u001b[0;34m\u001b[0m\u001b[0;34m\u001b[0m\u001b[0m\n\u001b[1;32m     54\u001b[0m \u001b[0;32mif\u001b[0m \u001b[0m__name__\u001b[0m \u001b[0;34m==\u001b[0m \u001b[0;34m\"__main__\"\u001b[0m\u001b[0;34m:\u001b[0m\u001b[0;34m\u001b[0m\u001b[0;34m\u001b[0m\u001b[0m\n\u001b[0;32m---> 55\u001b[0;31m     \u001b[0mcalculator\u001b[0m\u001b[0;34m(\u001b[0m\u001b[0;34m)\u001b[0m\u001b[0;34m\u001b[0m\u001b[0;34m\u001b[0m\u001b[0m\n\u001b[0m",
            "\u001b[0;32m<ipython-input-6-305e809d1abb>\u001b[0m in \u001b[0;36mcalculator\u001b[0;34m()\u001b[0m\n\u001b[1;32m     13\u001b[0m         \u001b[0;32mwhile\u001b[0m \u001b[0;32mTrue\u001b[0m\u001b[0;34m:\u001b[0m\u001b[0;34m\u001b[0m\u001b[0;34m\u001b[0m\u001b[0m\n\u001b[1;32m     14\u001b[0m             \u001b[0;32mtry\u001b[0m\u001b[0;34m:\u001b[0m\u001b[0;34m\u001b[0m\u001b[0;34m\u001b[0m\u001b[0m\n\u001b[0;32m---> 15\u001b[0;31m                 \u001b[0moperator\u001b[0m \u001b[0;34m=\u001b[0m \u001b[0minput\u001b[0m\u001b[0;34m(\u001b[0m\u001b[0;34m\"연산자를 입력하세요 (+, -, *, /): \"\u001b[0m\u001b[0;34m)\u001b[0m\u001b[0;34m\u001b[0m\u001b[0;34m\u001b[0m\u001b[0m\n\u001b[0m\u001b[1;32m     16\u001b[0m                 \u001b[0;32mif\u001b[0m \u001b[0moperator\u001b[0m \u001b[0;32mnot\u001b[0m \u001b[0;32min\u001b[0m \u001b[0;34m[\u001b[0m\u001b[0;34m'+'\u001b[0m\u001b[0;34m,\u001b[0m \u001b[0;34m'-'\u001b[0m\u001b[0;34m,\u001b[0m \u001b[0;34m'*'\u001b[0m\u001b[0;34m,\u001b[0m \u001b[0;34m'/'\u001b[0m\u001b[0;34m]\u001b[0m\u001b[0;34m:\u001b[0m\u001b[0;34m\u001b[0m\u001b[0;34m\u001b[0m\u001b[0m\n\u001b[1;32m     17\u001b[0m                     \u001b[0;32mraise\u001b[0m \u001b[0mValueError\u001b[0m\u001b[0;34m(\u001b[0m\u001b[0;34m\"올바른 연산자가 아닙니다.\"\u001b[0m\u001b[0;34m)\u001b[0m\u001b[0;34m\u001b[0m\u001b[0;34m\u001b[0m\u001b[0m\n",
            "\u001b[0;32m/usr/local/lib/python3.10/dist-packages/ipykernel/kernelbase.py\u001b[0m in \u001b[0;36mraw_input\u001b[0;34m(self, prompt)\u001b[0m\n\u001b[1;32m    849\u001b[0m                 \u001b[0;34m\"raw_input was called, but this frontend does not support input requests.\"\u001b[0m\u001b[0;34m\u001b[0m\u001b[0;34m\u001b[0m\u001b[0m\n\u001b[1;32m    850\u001b[0m             )\n\u001b[0;32m--> 851\u001b[0;31m         return self._input_request(str(prompt),\n\u001b[0m\u001b[1;32m    852\u001b[0m             \u001b[0mself\u001b[0m\u001b[0;34m.\u001b[0m\u001b[0m_parent_ident\u001b[0m\u001b[0;34m,\u001b[0m\u001b[0;34m\u001b[0m\u001b[0;34m\u001b[0m\u001b[0m\n\u001b[1;32m    853\u001b[0m             \u001b[0mself\u001b[0m\u001b[0;34m.\u001b[0m\u001b[0m_parent_header\u001b[0m\u001b[0;34m,\u001b[0m\u001b[0;34m\u001b[0m\u001b[0;34m\u001b[0m\u001b[0m\n",
            "\u001b[0;32m/usr/local/lib/python3.10/dist-packages/ipykernel/kernelbase.py\u001b[0m in \u001b[0;36m_input_request\u001b[0;34m(self, prompt, ident, parent, password)\u001b[0m\n\u001b[1;32m    893\u001b[0m             \u001b[0;32mexcept\u001b[0m \u001b[0mKeyboardInterrupt\u001b[0m\u001b[0;34m:\u001b[0m\u001b[0;34m\u001b[0m\u001b[0;34m\u001b[0m\u001b[0m\n\u001b[1;32m    894\u001b[0m                 \u001b[0;31m# re-raise KeyboardInterrupt, to truncate traceback\u001b[0m\u001b[0;34m\u001b[0m\u001b[0;34m\u001b[0m\u001b[0m\n\u001b[0;32m--> 895\u001b[0;31m                 \u001b[0;32mraise\u001b[0m \u001b[0mKeyboardInterrupt\u001b[0m\u001b[0;34m(\u001b[0m\u001b[0;34m\"Interrupted by user\"\u001b[0m\u001b[0;34m)\u001b[0m \u001b[0;32mfrom\u001b[0m \u001b[0;32mNone\u001b[0m\u001b[0;34m\u001b[0m\u001b[0;34m\u001b[0m\u001b[0m\n\u001b[0m\u001b[1;32m    896\u001b[0m             \u001b[0;32mexcept\u001b[0m \u001b[0mException\u001b[0m \u001b[0;32mas\u001b[0m \u001b[0me\u001b[0m\u001b[0;34m:\u001b[0m\u001b[0;34m\u001b[0m\u001b[0;34m\u001b[0m\u001b[0m\n\u001b[1;32m    897\u001b[0m                 \u001b[0mself\u001b[0m\u001b[0;34m.\u001b[0m\u001b[0mlog\u001b[0m\u001b[0;34m.\u001b[0m\u001b[0mwarning\u001b[0m\u001b[0;34m(\u001b[0m\u001b[0;34m\"Invalid Message:\"\u001b[0m\u001b[0;34m,\u001b[0m \u001b[0mexc_info\u001b[0m\u001b[0;34m=\u001b[0m\u001b[0;32mTrue\u001b[0m\u001b[0;34m)\u001b[0m\u001b[0;34m\u001b[0m\u001b[0;34m\u001b[0m\u001b[0m\n",
            "\u001b[0;31mKeyboardInterrupt\u001b[0m: Interrupted by user"
          ]
        }
      ]
    },
    {
      "cell_type": "markdown",
      "source": [
        "- 역시나 쉽지않았고 인공지능의 도움을 최대한 받아서 이해하고 간추리려고 노력을 했습니다 조금씩 코드를 수정했을때 실행되지않을때마다 멘붕이 왔었는데, 조금씩 이해하고 하나씩 고쳐나가서 좋았습니다"
      ],
      "metadata": {
        "id": "w4te5KOp8y1m"
      }
    },
    {
      "cell_type": "markdown",
      "source": [],
      "metadata": {
        "id": "f-K3jBAe80Qj"
      }
    },
    {
      "cell_type": "markdown",
      "source": [],
      "metadata": {
        "id": "0rbSu_Aq6fqb"
      }
    },
    {
      "cell_type": "markdown",
      "source": [],
      "metadata": {
        "id": "D52DXJwX0j0t"
      }
    }
  ]
}